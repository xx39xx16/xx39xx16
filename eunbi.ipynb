{
  "nbformat": 4,
  "nbformat_minor": 0,
  "metadata": {
    "colab": {
      "provenance": [],
      "authorship_tag": "ABX9TyPBymTP6yGyPVWBZ/ccHnf9",
      "include_colab_link": true
    },
    "kernelspec": {
      "name": "python3",
      "display_name": "Python 3"
    },
    "language_info": {
      "name": "python"
    }
  },
  "cells": [
    {
      "cell_type": "markdown",
      "metadata": {
        "id": "view-in-github",
        "colab_type": "text"
      },
      "source": [
        "<a href=\"https://colab.research.google.com/github/xx39xx16/xx39xx16/blob/main/eunbi.ipynb\" target=\"_parent\"><img src=\"https://colab.research.google.com/assets/colab-badge.svg\" alt=\"Open In Colab\"/></a>"
      ]
    },
    {
      "cell_type": "code",
      "execution_count": null,
      "metadata": {
        "id": "crK2heZYaaOu"
      },
      "outputs": [],
      "source": [
        "school_info = input('학년, 반, 번호를 입력하세요: ')\n",
        "name = input('이름을 입력하세요. : ')\n",
        "print(school_info, name+'입니다.')\n",
        "job= input('희망 진로를 입력하세요: ')\n",
        "print('제 희망 진로는', job+'입니다.')"
      ]
    },
    {
      "cell_type": "code",
      "source": [
        "\n",
        "print('1-1 중간고사 영어점수, 1-1 기말고사 영어점수, 1-2 중간고사 영어점수, 1-2 기말고사 영어점수를 순서대로 입력하세요: ')\n",
        "eng1_1_mid,eng1_1_final, eng1_2_mid, eng1_2_final = input().split()\n",
        "eng1_1_mid = int(eng1_1_mid)\n",
        "eng1_1_final = int(eng1_1_final)\n",
        "eng1_2_mid = int(eng1_2_mid)\n",
        "eng1_2_final = int(eng1_2_final)\n",
        "eng_sum = float((eng1_1_mid + eng1_1_final + eng1_2_mid + eng1_2_final)/4)\n",
        "if eng_sum >= 90: print(\"1학년 때 본 영어 시험 점수의 평균은\", eng_sum, \"이네요. 희망 진로를 위해 열심히 공부했군요.\")\n",
        "elif eng_sum >= 80: print(\"1학년 때 본 영어 시험 점수의 평균은\", eng_sum, \"이네요. 조금 더 열심히 하면 꿈을 이룰 수 있어요!\")\n",
        "else: print (\"1학년 때 본 영어 시험 점수의 평균은\", eng_sum, \"이네요. 더 열심히 해서 다음 시험은 잘 봅시다.\")\n",
        "\n",
        "print('모국어를 제외하고 할 수 있는 언어를 컴마(,)로 구분해서 적어주세요: ')\n",
        "other_language= input()\n",
        "language_count= len(other_language.split(','))\n",
        "if language_count >=3: print(\"많은 언어를 구사할 줄 아네요. 외교관의 자격에 부합합니다. 멋진 꿈을 이루길 바랍니다.\")\n",
        "elif language_count >=2: print(\"우와! 언어 배우는 걸 정말 좋아하나보네요. 대단합니다.\")\n",
        "else: print(\"관심 있는 언어를 찾아보는 건 어떤가요~?\")\n"
      ],
      "metadata": {
        "id": "SDF8Z1JDnkMA"
      },
      "execution_count": null,
      "outputs": []
    },
    {
      "cell_type": "code",
      "source": [
        "question= input(\"1. 외교관 되는 법\\n2. 외교관이 하는 일\\n3. 외교관의 장점 중 알고 싶은 번호를 입력하세요 :\" )\n",
        "if question == 1: print(\"외교관이 되기 위해서는 외교관 후보자 선발 시험을 통과해야 합니다.\")\n",
        "elif question == 2: print(\"외교관은 본국을 대신하여 본국의 이익과 정책을 옹호하는 일을 주로 합니다.\")\n",
        "elif question ==3: print(\"다른 지역으로 파견 근무를 하게 되면 다른 나라의 문화를 많이 접해볼 수 있다는 장점이 있습니다.\")\n",
        "else: print(\"1~3 사이의 숫자를 제대로 입력했나요? \")\n"
      ],
      "metadata": {
        "id": "CfmTJaP7-_Pi"
      },
      "execution_count": null,
      "outputs": []
    },
    {
      "cell_type": "code",
      "source": [
        "print(\"지금까지 외교관에 대해 알아보았는데요.\\n꿈을 이루자는 의미로 '외교관 파이팅!'을 적어봅시다.\\n정확히 적게 되면 프로그램은 종료되고, 제대로 적지 않으면 프로그램은 제대로 종료되지 않습니다.\")\n",
        "comment_1 = \"외교관 파이팅!\"\n",
        "input_comment = input(\"여기에 입력하세요 : \")\n",
        "\n",
        "while True:\n",
        "  input_comment = input(\"여기에 입력하세요 : \")\n",
        "  if comment_1 == input_comment:\n",
        "    print(\"수고하셨습니다.\")\n",
        "    break\n",
        "  else:\n",
        "    print(\"다시 입력하세요\")\n",
        "    continue"
      ],
      "metadata": {
        "id": "NiD4Rcc7Eh6t"
      },
      "execution_count": null,
      "outputs": []
    },
    {
      "cell_type": "code",
      "source": [],
      "metadata": {
        "id": "ux2OLLti40VB"
      },
      "execution_count": null,
      "outputs": []
    }
  ]
}